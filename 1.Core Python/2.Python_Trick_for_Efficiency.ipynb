{
 "cells": [
  {
   "cell_type": "markdown",
   "metadata": {},
   "source": [
    "<h1 style=\" color: cyan; text-align:center; font-size:250%; font-weight:bold\"> \n",
    "Python Tricks to Improve Your Code\n",
    "</h1>"
   ]
  },
  {
   "cell_type": "markdown",
   "metadata": {},
   "source": [
    "<h1 style=\" color: gold; font-size:200%; font-weight:bold\"> \n",
    "1) X.append() v/s X.extend() </h1>\n",
    "    <ul>\n",
    "        <li style=\"margin-left:50px; color:violet\">\n",
    "            Difference b/w append and extend: Lies on \n",
    "                <ul style=\"color:crimson\">\n",
    "                    <li, style=\"font-size:120%; font-weight:bold\">How they treat the elements you're adding\n",
    "                            <ul>\n",
    "                                <li style=\"color:coral; font-weight:normal\">append() adds the entire object (whether it's a single value or an iterable) as a single item to the list. It treats whatever you pass as one unit.\n",
    "                                </li>\n",
    "                                <li style=\"color:coral; font-weight:normal\">extend() takes an iterable (like another list, tuple, etc.) and adds each element from that iterable to the original list as individual items\n",
    "                                </li>\n",
    "                            </ul>\n",
    "                    </li>\n",
    "                    <li>How they handle memory</li>\n",
    "                            <ul>\n",
    "                                <li style=\"color:coral; font-weight:normal\">\n",
    "                                With append(), memory reallocation can happen multiple times because you add elements one by one <br>Each time you add an element, if there's not enough space, Python must:</br>\n",
    "                                Allocate  a larger memory block.\n",
    "                                Copy the entire list to the new block of memory.\n",
    "                                This process repeats every time the list runs out of space, which is inefficient when you’re appending many items individually in a loop.`\n",
    "                                <li style=\"color:pink; font-weight:normal\">\n",
    "                                When you use extend(), Python adds all elements at once by iterating over the input iterable (like another list or range). It:\n",
    "                                Allocates enough memory for the original list plus the additional elements in one go.\n",
    "                                Only one reallocation happens if needed.\n",
    "                                This means Python doesn’t need to keep reallocating memory for each individual element, as it knows upfront how many elements you are going to add.</li>\n",
    "                                </li>\n",
    "                            </ul>\n",
    "                </ul>\n",
    "    </ul>"
   ]
  },
  {
   "cell_type": "code",
   "execution_count": 11,
   "metadata": {},
   "outputs": [
    {
     "name": "stdout",
     "output_type": "stream",
     "text": [
      "output result of append: [1, 2, 3, [4, 5]]\n"
     ]
    }
   ],
   "source": [
    "x= [1, 2, 3]\n",
    "x.append([4, 5])  # Modify x in place\n",
    "print(\"output result of append:\", x)  # Output will be: [1, 2, 3, [4, 5]]\n"
   ]
  },
  {
   "cell_type": "code",
   "execution_count": 13,
   "metadata": {},
   "outputs": [
    {
     "name": "stdout",
     "output_type": "stream",
     "text": [
      "output result of extend: [1, 2, 3, 4, 5]\n"
     ]
    }
   ],
   "source": [
    "x = [1, 2, 3]\n",
    "x.extend([4, 5])  # Modify x in place\n",
    "print(\"output result of extend:\", x)  # Output will be: [1, 2, 3, [4, 5]]\n"
   ]
  }
 ],
 "metadata": {
  "kernelspec": {
   "display_name": "Python 3",
   "language": "python",
   "name": "python3"
  },
  "language_info": {
   "codemirror_mode": {
    "name": "ipython",
    "version": 3
   },
   "file_extension": ".py",
   "mimetype": "text/x-python",
   "name": "python",
   "nbconvert_exporter": "python",
   "pygments_lexer": "ipython3",
   "version": "3.12.2"
  }
 },
 "nbformat": 4,
 "nbformat_minor": 2
}
