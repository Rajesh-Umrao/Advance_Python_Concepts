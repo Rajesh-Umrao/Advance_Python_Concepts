{
 "cells": [
  {
   "cell_type": "markdown",
   "metadata": {},
   "source": [
    "<h1 style=\" color: cyan; text-align:center; font-size:250%; font-weight:bold\"> \n",
    "Type Hinting in python\n",
    "</h1>\n",
    "\n",
    "<h2 style=\"color: lightblue; font-size:200%; font-weight:bold\">\n",
    " List of Content\n",
    " </h2>\n",
    "<ol>\n",
    "<li style=\" color:coral; font-size:120%; font-weight:bold\"> importance of Type Hinting </li>\n",
    "            <ol style=\"color: lightblue; font-size:90%\">\n",
    "            <li>Improved Readability: Type hints make it clearer to developers what type of data is expected in your code.</li>\n",
    "            <li>Better Tool Support: IDEs can offer better autocompletion and error detection if they know what types to expect.</li>\n",
    "            <li>Static Type Checking: Tools like mypy can check for type errors in your code before runtime, catching potential issues early</li>\n",
    "            </ol>\n",
    "<li style=\" color:coral; font-size:120%; font-weight:bold\">  How type hint works</li>\n",
    "        <ol style=\" color: violet; font-weight: bold\">\n",
    "            <li>Variable Type Hints</li>\n",
    "            <li>Type hinting Python functions</li>\n",
    "            <li>Complex Type Hints</li>\n",
    "        </ol>\n",
    "</ol>"
   ]
  },
  {
   "cell_type": "markdown",
   "metadata": {},
   "source": [
    "<h1 style=\" color:gold; font-size:250%; font-weight:bold\"> 1)importance of Type Hinting </h1>\n",
    "    <ul><li style=\"color:crimson;font-weight:bold\">Type hints are not enforced at runtime but it is for Static Type Checking(like mypy)</li>\n",
    "         <ul style=\"color: violet\">In simple words:: Python will still allow you to assign any type to any variable, even if it contradicts the type hint, Hence Type hints serve as guidance for static checking(like mypy) or IDEs to detect type inconsistency </ul>\n",
    "    </ul>"
   ]
  },
  {
   "cell_type": "code",
   "execution_count": null,
   "metadata": {},
   "outputs": [],
   "source": [
    "#lets store the Nos & assign the same types as per degined hint   \n",
    "a:int=9 \n",
    "b=float=2.7\n",
    "print(a, b)\n",
    "    #hence:it return the outptint as print \n",
    "   \n",
    "# NOW LETS ASSIGN THE DIFFERENT TYPE OTHERTHAN PREDEFINED TYPE HINT \n",
    "a: int= \"my name is rajesh\"\n",
    "b: float=9\n",
    "print(a, b)\n",
    "    #in the case we STILL get the ouput: hence its clear type hint are enforced ar runtime but only \n",
    "    #only for static type checking to make programmer life easier "
   ]
  },
  {
   "cell_type": "markdown",
   "metadata": {},
   "source": [
    "<h1 style=\" color:gold; font-size:250%; font-weight:bold\"> 1)How type hint work? </h1>\n",
    "<h2 style=\"color: violet; font-size:180%; font-weight: bold\"> A)Variable Type Hints</h2>"
   ]
  },
  {
   "cell_type": "code",
   "execution_count": null,
   "metadata": {},
   "outputs": [],
   "source": [
    "#EX-1 \n",
    "x: int = 10  # x is expected to be an integer\n",
    "y: str = \"HELLO\"  # y is expected to be a string\n",
    "z: float = 3.14 # z is expected to be a float\n",
    "\n",
    "\n",
    "#EX-2\n",
    "name: str\n",
    "age: int\n",
    "name = input(\"Your name?\")\n",
    "age = int(input(\"Your age?\"))\n",
    "\n",
    "# alternatively, and more simply:\n",
    "name: str = input(\"Your name?\")\n",
    "age: int = int(input(\"Your age?\"))\n"
   ]
  },
  {
   "cell_type": "markdown",
   "metadata": {},
   "source": [
    "<h2 style=\"color: violet; font-size:180%; font-weight: bold\"> B)Type hinting Python functions</h2>"
   ]
  },
  {
   "cell_type": "code",
   "execution_count": null,
   "metadata": {},
   "outputs": [],
   "source": [
    "def add(a: int, b: int) -> int:\n",
    "    return a + b\n",
    "#lets call the funtion by passing arg 3, 5\n",
    "add(3, 5)"
   ]
  },
  {
   "cell_type": "markdown",
   "metadata": {},
   "source": [
    "<h2 style=\"color: violet; font-size:180%; font-weight: bold\"> B)Complex Type Hints</h2>"
   ]
  },
  {
   "cell_type": "code",
   "execution_count": 5,
   "metadata": {},
   "outputs": [],
   "source": [
    "from typing import List, Dict\n",
    "names: List[str] = [\"Alice\", \"Bob\", \"Charlie\"]\n",
    "ages: Dict[str, int] = {\"Alice\": 30, \"Bob\": 25}"
   ]
  }
 ],
 "metadata": {
  "kernelspec": {
   "display_name": "Python 3",
   "language": "python",
   "name": "python3"
  },
  "language_info": {
   "codemirror_mode": {
    "name": "ipython",
    "version": 3
   },
   "file_extension": ".py",
   "mimetype": "text/x-python",
   "name": "python",
   "nbconvert_exporter": "python",
   "pygments_lexer": "ipython3",
   "version": "3.12.2"
  }
 },
 "nbformat": 4,
 "nbformat_minor": 2
}
