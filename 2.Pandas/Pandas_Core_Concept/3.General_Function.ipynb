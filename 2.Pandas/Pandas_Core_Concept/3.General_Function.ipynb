{
 "cells": [
  {
   "cell_type": "markdown",
   "metadata": {},
   "source": [
    "<h1 style=\"color:cyan; text-align:center; font-size:250%; font-weight:bold\">\n",
    "Pandas General Functions</h1>\n"
   ]
  },
  {
   "cell_type": "markdown",
   "metadata": {},
   "source": [
    "<table>\n",
    "    <tr><th colspan=\"2\", style=\"color:deeppink; font-size:200%; font-weight:bold\">List of the content </th><tr>\n",
    "    <tr>\n",
    "        <th style=\"color:gold ; font-weight:bold\" >Type of Function</th>\n",
    "        <th style=\"color:orange\">List of the Import Functions</th>\n",
    "    </tr>\n",
    "    <tr>\n",
    "        <td style=\"color:teal; font-weight:bold\">1) Data Manipulation Function</td>\n",
    "        <td style=\"color:coral\">\n",
    "            <ul>    \n",
    "                <li>pd.crosstab()</li>\n",
    "                <li>pd.merge()</li>\n",
    "                <li>pd.concat()</li>\n",
    "                <li>pd.unique()</li>\n",
    "                <li>pd.lreshape()</li>\n",
    "                <li>pd.pivot()</li>\n",
    "                <li>pd.pivottable()</li>\n",
    "                <li>pd.melt()</li>\n",
    "            </ul>\n",
    "        </td>\n",
    "    </tr>\n",
    "    <tr>\n",
    "        <td style=\"color:teal ; font-weight:bold\" >2) Function to check missing Data</td>\n",
    "        <td style=\"color:coral\">\n",
    "            <ul>\n",
    "                <li>isna</li>\n",
    "                <li>notna</li>\n",
    "                <li>isnull</li>\n",
    "                <li>notnull</li>\n",
    "            </ul>\n",
    "        </td>\n",
    "    </tr>\n",
    "</table>"
   ]
  },
  {
   "cell_type": "markdown",
   "metadata": {},
   "source": [
    "<h1 style=\" color:gold; font-size:250%; font-weight:bold\"> 1)Data Manipulation Function </h1>\n",
    "    <h2 style=\"color:crimson;font-weight:bold; font-size:200%; margin:20px\">1.1)pd.crosstab() function</h2>\n",
    "         <ul style=\"color: violet;  margin: 20px\">A crosstab in Pandas creates a table that counts how often different combinations of values appear in your data. </ul>"
   ]
  },
  {
   "cell_type": "code",
   "execution_count": 36,
   "metadata": {},
   "outputs": [
    {
     "name": "stdout",
     "output_type": "stream",
     "text": [
      "sex     female  male  All\n",
      "class                    \n",
      "First       94   122  216\n",
      "Second      76   108  184\n",
      "Third      144   347  491\n",
      "All        314   577  891\n"
     ]
    },
    {
     "data": {
      "text/html": [
       "<div>\n",
       "<style scoped>\n",
       "    .dataframe tbody tr th:only-of-type {\n",
       "        vertical-align: middle;\n",
       "    }\n",
       "\n",
       "    .dataframe tbody tr th {\n",
       "        vertical-align: top;\n",
       "    }\n",
       "\n",
       "    .dataframe thead tr th {\n",
       "        text-align: left;\n",
       "    }\n",
       "\n",
       "    .dataframe thead tr:last-of-type th {\n",
       "        text-align: right;\n",
       "    }\n",
       "</style>\n",
       "<table border=\"1\" class=\"dataframe\">\n",
       "  <thead>\n",
       "    <tr>\n",
       "      <th>sex</th>\n",
       "      <th colspan=\"3\" halign=\"left\">female</th>\n",
       "      <th colspan=\"3\" halign=\"left\">male</th>\n",
       "    </tr>\n",
       "    <tr>\n",
       "      <th>class</th>\n",
       "      <th>First</th>\n",
       "      <th>Second</th>\n",
       "      <th>Third</th>\n",
       "      <th>First</th>\n",
       "      <th>Second</th>\n",
       "      <th>Third</th>\n",
       "    </tr>\n",
       "    <tr>\n",
       "      <th>embark_town</th>\n",
       "      <th></th>\n",
       "      <th></th>\n",
       "      <th></th>\n",
       "      <th></th>\n",
       "      <th></th>\n",
       "      <th></th>\n",
       "    </tr>\n",
       "  </thead>\n",
       "  <tbody>\n",
       "    <tr>\n",
       "      <th>Cherbourg</th>\n",
       "      <td>43</td>\n",
       "      <td>7</td>\n",
       "      <td>23</td>\n",
       "      <td>42</td>\n",
       "      <td>10</td>\n",
       "      <td>43</td>\n",
       "    </tr>\n",
       "    <tr>\n",
       "      <th>Queenstown</th>\n",
       "      <td>1</td>\n",
       "      <td>2</td>\n",
       "      <td>33</td>\n",
       "      <td>1</td>\n",
       "      <td>1</td>\n",
       "      <td>39</td>\n",
       "    </tr>\n",
       "    <tr>\n",
       "      <th>Southampton</th>\n",
       "      <td>48</td>\n",
       "      <td>67</td>\n",
       "      <td>88</td>\n",
       "      <td>79</td>\n",
       "      <td>97</td>\n",
       "      <td>265</td>\n",
       "    </tr>\n",
       "  </tbody>\n",
       "</table>\n",
       "</div>"
      ],
      "text/plain": [
       "sex         female               male             \n",
       "class        First Second Third First Second Third\n",
       "embark_town                                       \n",
       "Cherbourg       43      7    23    42     10    43\n",
       "Queenstown       1      2    33     1      1    39\n",
       "Southampton     48     67    88    79     97   265"
      ]
     },
     "execution_count": 36,
     "metadata": {},
     "output_type": "execute_result"
    }
   ],
   "source": [
    "import pandas as pd \n",
    "import seaborn as sns\n",
    "df=sns.load_dataset('titanic')\n",
    "df.head()\n",
    "\n",
    "#1)classwise frequency table of male and female \n",
    "class_sex_table=pd.crosstab(index=df['class'], columns=df['sex'], margins=True)\n",
    "print(class_sex_table)\n",
    "#1)Townwise frequency table of male and female\n",
    "emabark_town_sex=pd.crosstab(index=df['embark_town'], columns=[df['sex'], df['class']])\n",
    "emabark_town_sex"
   ]
  }
 ],
 "metadata": {
  "kernelspec": {
   "display_name": "Python 3",
   "language": "python",
   "name": "python3"
  },
  "language_info": {
   "codemirror_mode": {
    "name": "ipython",
    "version": 3
   },
   "file_extension": ".py",
   "mimetype": "text/x-python",
   "name": "python",
   "nbconvert_exporter": "python",
   "pygments_lexer": "ipython3",
   "version": "3.12.2"
  }
 },
 "nbformat": 4,
 "nbformat_minor": 2
}
